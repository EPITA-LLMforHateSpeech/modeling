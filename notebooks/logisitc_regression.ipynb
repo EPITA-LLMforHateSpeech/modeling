{
 "cells": [
  {
   "cell_type": "code",
   "execution_count": 7,
   "metadata": {},
   "outputs": [],
   "source": [
    "import pandas as pd"
   ]
  },
  {
   "cell_type": "code",
   "execution_count": 32,
   "metadata": {},
   "outputs": [
    {
     "name": "stdout",
     "output_type": "stream",
     "text": [
      "(24781, 3)\n"
     ]
    },
    {
     "data": {
      "text/html": [
       "<div>\n",
       "<style scoped>\n",
       "    .dataframe tbody tr th:only-of-type {\n",
       "        vertical-align: middle;\n",
       "    }\n",
       "\n",
       "    .dataframe tbody tr th {\n",
       "        vertical-align: top;\n",
       "    }\n",
       "\n",
       "    .dataframe thead th {\n",
       "        text-align: right;\n",
       "    }\n",
       "</style>\n",
       "<table border=\"1\" class=\"dataframe\">\n",
       "  <thead>\n",
       "    <tr style=\"text-align: right;\">\n",
       "      <th></th>\n",
       "      <th>tweet</th>\n",
       "      <th>tokens</th>\n",
       "      <th>label</th>\n",
       "    </tr>\n",
       "  </thead>\n",
       "  <tbody>\n",
       "    <tr>\n",
       "      <th>0</th>\n",
       "      <td>woman shouldnt complain cleaning house man alw...</td>\n",
       "      <td>['woman', 'shouldnt', 'complain', 'cleaning', ...</td>\n",
       "      <td>0</td>\n",
       "    </tr>\n",
       "    <tr>\n",
       "      <th>1</th>\n",
       "      <td>boy dat coldtyga dwn bad cuffin dat hoe st place</td>\n",
       "      <td>['boy', 'dat', 'coldtyga', 'dwn', 'bad', 'cuff...</td>\n",
       "      <td>0</td>\n",
       "    </tr>\n",
       "  </tbody>\n",
       "</table>\n",
       "</div>"
      ],
      "text/plain": [
       "                                               tweet  \\\n",
       "0  woman shouldnt complain cleaning house man alw...   \n",
       "1   boy dat coldtyga dwn bad cuffin dat hoe st place   \n",
       "\n",
       "                                              tokens  label  \n",
       "0  ['woman', 'shouldnt', 'complain', 'cleaning', ...      0  \n",
       "1  ['boy', 'dat', 'coldtyga', 'dwn', 'bad', 'cuff...      0  "
      ]
     },
     "execution_count": 32,
     "metadata": {},
     "output_type": "execute_result"
    }
   ],
   "source": [
    "data = pd.read_csv(\"..\\\\preprocessed\\\\tweets_general.csv\")\n",
    "data.dropna(inplace=True)\n",
    "print(data.shape)\n",
    "data.head(2)"
   ]
  },
  {
   "cell_type": "code",
   "execution_count": 9,
   "metadata": {},
   "outputs": [],
   "source": [
    "## check if tokenized column is the same as tweet to prepare for vectorization \n",
    "## not working. \n",
    "\n",
    "def check_token(row):\n",
    "    tweet = row['tweet']\n",
    "    tokens = row['tokens']\n",
    "    words = tweet.split(' ')\n",
    "\n",
    "    return len(tokens) == len(words) and all(token == word for token, word in zip(tokens, words))\n",
    "\n",
    "data['is_token_correct'] = data.apply(lambda row: check_token(row), axis=1)"
   ]
  },
  {
   "cell_type": "markdown",
   "metadata": {},
   "source": [
    "Vectorize text data"
   ]
  },
  {
   "cell_type": "code",
   "execution_count": 12,
   "metadata": {},
   "outputs": [],
   "source": [
    "## libraries to be used\n",
    "\n",
    "import pandas as pd\n",
    "from sklearn.model_selection import train_test_split\n",
    "from sklearn.feature_extraction.text import CountVectorizer, TfidfVectorizer\n",
    "from sklearn.linear_model import LogisticRegression\n",
    "from sklearn.metrics import accuracy_score, precision_score, recall_score, f1_score, roc_auc_score\n"
   ]
  },
  {
   "cell_type": "code",
   "execution_count": 17,
   "metadata": {},
   "outputs": [],
   "source": [
    "# Split the dataset\n",
    "X_train, X_test, y_train, y_test = train_test_split(data['tweet'], data['label'], test_size=0.2, random_state=42)"
   ]
  },
  {
   "cell_type": "markdown",
   "metadata": {},
   "source": [
    "using both count vectorizer and tfidf to analyze performance"
   ]
  },
  {
   "cell_type": "code",
   "execution_count": 35,
   "metadata": {},
   "outputs": [
    {
     "name": "stdout",
     "output_type": "stream",
     "text": [
      "16537 15537\n"
     ]
    }
   ],
   "source": [
    "## check vocab size for reference, to help determine max features value for vectorizers \n",
    "\n",
    "vocab_file = '..\\\\custom_bert_tokenizer\\\\vocab.txt'\n",
    "with open(vocab_file, 'r', encoding='utf-8') as f:\n",
    "    vocab_size = sum(1 for _ in f)\n",
    "\n",
    "max_features = min(vocab_size + 1000, 50000)  #  allow some extra room for unseen data\n",
    "print(max_features, vocab_size)"
   ]
  },
  {
   "cell_type": "code",
   "execution_count": 36,
   "metadata": {},
   "outputs": [],
   "source": [
    "# using the CountVectorizer\n",
    "count_vectorizer = CountVectorizer(max_features=max_features)  \n",
    "X_train_counts = count_vectorizer.fit_transform(X_train)\n",
    "X_test_counts = count_vectorizer.transform(X_test)\n"
   ]
  },
  {
   "cell_type": "code",
   "execution_count": 38,
   "metadata": {},
   "outputs": [],
   "source": [
    "# using the TfidfVectorizer\n",
    "tfidf_vectorizer = TfidfVectorizer(max_features=max_features)  \n",
    "X_train_tfidf = tfidf_vectorizer.fit_transform(X_train)\n",
    "X_test_tfidf = tfidf_vectorizer.transform(X_test)\n"
   ]
  },
  {
   "cell_type": "markdown",
   "metadata": {},
   "source": [
    "Train the model"
   ]
  },
  {
   "cell_type": "code",
   "execution_count": 39,
   "metadata": {},
   "outputs": [],
   "source": [
    "## train log regression model on counts vectorized dataset\n",
    "model_count = LogisticRegression()\n",
    "model_count.fit(X_train_counts, y_train)\n",
    "\n",
    "y_pred_counts = model_count.predict(X_test_counts)\n"
   ]
  },
  {
   "cell_type": "code",
   "execution_count": 40,
   "metadata": {},
   "outputs": [],
   "source": [
    "# train the log regression model on tfidf vectorized dataset\n",
    "model_tfidf = LogisticRegression()\n",
    "model_tfidf.fit(X_train_tfidf, y_train)\n",
    "\n",
    "y_pred_tfidf = model_tfidf.predict(X_test_tfidf)\n"
   ]
  },
  {
   "cell_type": "code",
   "execution_count": null,
   "metadata": {},
   "outputs": [],
   "source": []
  },
  {
   "cell_type": "markdown",
   "metadata": {},
   "source": [
    "Evaluate the models"
   ]
  },
  {
   "cell_type": "code",
   "execution_count": 41,
   "metadata": {},
   "outputs": [
    {
     "name": "stdout",
     "output_type": "stream",
     "text": [
      "CountVectorizer - Accuracy: 0.9412951381884204\n",
      "CountVectorizer - Precision: 0.484375\n",
      "CountVectorizer - Recall: 0.21602787456445993\n",
      "CountVectorizer - F1 Score: 0.2987951807228916\n",
      "CountVectorizer - ROC AUC: 0.600947556125913\n"
     ]
    }
   ],
   "source": [
    "## evaluate model on count vectorizer \n",
    "\n",
    "# Calculate metrics\n",
    "accuracy_counts = accuracy_score(y_test, y_pred_counts)\n",
    "precision_counts = precision_score(y_test, y_pred_counts, average='binary')\n",
    "recall_counts = recall_score(y_test, y_pred_counts, average='binary')\n",
    "f1_counts = f1_score(y_test, y_pred_counts, average='binary')\n",
    "roc_auc_counts = roc_auc_score(y_test, y_pred_counts)\n",
    "\n",
    "# Print metrics\n",
    "print(f'CountVectorizer - Accuracy: {accuracy_counts}')\n",
    "print(f'CountVectorizer - Precision: {precision_counts}')\n",
    "print(f'CountVectorizer - Recall: {recall_counts}')\n",
    "print(f'CountVectorizer - F1 Score: {f1_counts}')\n",
    "print(f'CountVectorizer - ROC AUC: {roc_auc_counts}')\n"
   ]
  },
  {
   "cell_type": "code",
   "execution_count": 42,
   "metadata": {},
   "outputs": [
    {
     "name": "stdout",
     "output_type": "stream",
     "text": [
      "TfidfVectorizer - Accuracy: 0.9439176921525116\n",
      "TfidfVectorizer - Precision: 0.576271186440678\n",
      "TfidfVectorizer - Recall: 0.11846689895470383\n",
      "TfidfVectorizer - F1 Score: 0.19653179190751446\n",
      "TfidfVectorizer - ROC AUC: 0.5565567899484439\n"
     ]
    }
   ],
   "source": [
    "## evaluaate on tfidf vectorizer \n",
    "# Calculate metrics\n",
    "accuracy_tfidf = accuracy_score(y_test, y_pred_tfidf)\n",
    "precision_tfidf = precision_score(y_test, y_pred_tfidf, average='binary')\n",
    "recall_tfidf = recall_score(y_test, y_pred_tfidf, average='binary')\n",
    "f1_tfidf = f1_score(y_test, y_pred_tfidf, average='binary')\n",
    "roc_auc_tfidf = roc_auc_score(y_test, y_pred_tfidf)\n",
    "\n",
    "# Print metrics\n",
    "print(f'TfidfVectorizer - Accuracy: {accuracy_tfidf}')\n",
    "print(f'TfidfVectorizer - Precision: {precision_tfidf}')\n",
    "print(f'TfidfVectorizer - Recall: {recall_tfidf}')\n",
    "print(f'TfidfVectorizer - F1 Score: {f1_tfidf}')\n",
    "print(f'TfidfVectorizer - ROC AUC: {roc_auc_tfidf}')\n"
   ]
  },
  {
   "cell_type": "markdown",
   "metadata": {},
   "source": [
    "#### analysis \n",
    "both models seems to have decent accuracy and precision but terrible recall and f1 score, as well as non optimal roc auc curves. \n",
    "\n",
    "possible problem: there is a significant class imbalance "
   ]
  },
  {
   "cell_type": "code",
   "execution_count": 45,
   "metadata": {},
   "outputs": [
    {
     "data": {
      "image/png": "[encoded data removed]",
      "text/plain": [
       "<Figure size 800x600 with 1 Axes>"
      ]
     },
     "metadata": {},
     "output_type": "display_data"
    }
   ],
   "source": [
    "## visualizing the imbalance \n",
    "import matplotlib.pyplot as plt\n",
    "df = pd.read_csv(\"..\\\\preprocessed\\\\tweets_general.csv\")\n",
    "class_counts = df['label'].value_counts()\n",
    "\n",
    "plt.figure(figsize=(8, 6))\n",
    "plt.bar(class_counts.index, class_counts.values, color=['blue', 'green'])\n",
    "plt.xticks(class_counts.index, ['Class 0', 'Class 1'])\n",
    "plt.xlabel('Class Label')\n",
    "plt.ylabel('Number of Tweets')\n",
    "plt.title('Class Distribution in the Dataset')\n",
    "plt.show()\n"
   ]
  },
  {
   "cell_type": "markdown",
   "metadata": {},
   "source": [
    "that's pretty bad. <br> we should undersample the data. it would drastically lower our dataset -- possible other solutions would be to:\n",
    "\n",
    "    a) change our dataset\n",
    "    b) change the definition of hatespeech (i.e. offensive speech could also be considered hatespeech)"
   ]
  },
  {
   "cell_type": "code",
   "execution_count": 59,
   "metadata": {},
   "outputs": [
    {
     "name": "stdout",
     "output_type": "stream",
     "text": [
      "label\n",
      "1    1430\n",
      "0    1429\n",
      "Name: count, dtype: int64\n"
     ]
    },
    {
     "data": {
      "text/html": [
       "<div>\n",
       "<style scoped>\n",
       "    .dataframe tbody tr th:only-of-type {\n",
       "        vertical-align: middle;\n",
       "    }\n",
       "\n",
       "    .dataframe tbody tr th {\n",
       "        vertical-align: top;\n",
       "    }\n",
       "\n",
       "    .dataframe thead th {\n",
       "        text-align: right;\n",
       "    }\n",
       "</style>\n",
       "<table border=\"1\" class=\"dataframe\">\n",
       "  <thead>\n",
       "    <tr style=\"text-align: right;\">\n",
       "      <th></th>\n",
       "      <th>tweet</th>\n",
       "      <th>tokens</th>\n",
       "      <th>label</th>\n",
       "    </tr>\n",
       "  </thead>\n",
       "  <tbody>\n",
       "    <tr>\n",
       "      <th>0</th>\n",
       "      <td>gay stfu dumb monkey</td>\n",
       "      <td>['gay', 'stfu', 'dumb', 'monkey']</td>\n",
       "      <td>1</td>\n",
       "    </tr>\n",
       "    <tr>\n",
       "      <th>1</th>\n",
       "      <td>yes im white washed dont go around repping hoo...</td>\n",
       "      <td>['yes', 'im', 'white', 'washed', 'dont', 'go',...</td>\n",
       "      <td>1</td>\n",
       "    </tr>\n",
       "  </tbody>\n",
       "</table>\n",
       "</div>"
      ],
      "text/plain": [
       "                                               tweet  \\\n",
       "0                               gay stfu dumb monkey   \n",
       "1  yes im white washed dont go around repping hoo...   \n",
       "\n",
       "                                              tokens  label  \n",
       "0                  ['gay', 'stfu', 'dumb', 'monkey']      1  \n",
       "1  ['yes', 'im', 'white', 'washed', 'dont', 'go',...      1  "
      ]
     },
     "execution_count": 59,
     "metadata": {},
     "output_type": "execute_result"
    }
   ],
   "source": [
    "## undersampling dataset \n",
    "data.dropna(inplace=True)\n",
    "\n",
    "# Separate majority and minority classes\n",
    "df_majority = df[df['label'] == 0]\n",
    "df_minority = df[df['label'] == 1]\n",
    "\n",
    "df_majority_undersampled = df_majority.sample(len(df_minority), random_state=42)\n",
    "df_balanced = pd.concat([df_majority_undersampled, df_minority])\n",
    "\n",
    "# Shuffle the balanced dataset\n",
    "df_balanced = df_balanced.sample(frac=1, random_state=42).reset_index(drop=True)\n",
    "df_balanced.dropna(inplace=True)\n",
    "\n",
    "print(df_balanced['label'].value_counts())\n",
    "df_balanced.head(2)"
   ]
  },
  {
   "cell_type": "code",
   "execution_count": 60,
   "metadata": {},
   "outputs": [],
   "source": [
    "## redo previous steps (vectorizing, training and evaluation.)"
   ]
  },
  {
   "cell_type": "markdown",
   "metadata": {},
   "source": [
    "Vectorize text data"
   ]
  },
  {
   "cell_type": "code",
   "execution_count": 61,
   "metadata": {},
   "outputs": [],
   "source": [
    "# Split the dataset\n",
    "X_train, X_test, y_train, y_test = train_test_split(df_balanced['tweet'], df_balanced['label'], test_size=0.2, random_state=42)"
   ]
  },
  {
   "cell_type": "markdown",
   "metadata": {},
   "source": [
    "using both count vectorizer and tfidf to analyze performance"
   ]
  },
  {
   "cell_type": "code",
   "execution_count": 62,
   "metadata": {},
   "outputs": [
    {
     "name": "stdout",
     "output_type": "stream",
     "text": [
      "16537 15537\n"
     ]
    }
   ],
   "source": [
    "## check vocab size for reference, to help determine max features value for vectorizers \n",
    "\n",
    "vocab_file = '..\\\\custom_bert_tokenizer\\\\vocab.txt'\n",
    "with open(vocab_file, 'r', encoding='utf-8') as f:\n",
    "    vocab_size = sum(1 for _ in f)\n",
    "\n",
    "max_features = min(vocab_size + 1000, 50000)  #  allow some extra room for unseen data\n",
    "print(max_features, vocab_size)"
   ]
  },
  {
   "cell_type": "code",
   "execution_count": 63,
   "metadata": {},
   "outputs": [],
   "source": [
    "# using the CountVectorizer\n",
    "count_vectorizer = CountVectorizer(max_features=max_features)  \n",
    "X_train_counts = count_vectorizer.fit_transform(X_train)\n",
    "X_test_counts = count_vectorizer.transform(X_test)\n"
   ]
  },
  {
   "cell_type": "code",
   "execution_count": 64,
   "metadata": {},
   "outputs": [],
   "source": [
    "# using the TfidfVectorizer\n",
    "tfidf_vectorizer = TfidfVectorizer(max_features=max_features)  \n",
    "X_train_tfidf = tfidf_vectorizer.fit_transform(X_train)\n",
    "X_test_tfidf = tfidf_vectorizer.transform(X_test)\n"
   ]
  },
  {
   "cell_type": "markdown",
   "metadata": {},
   "source": [
    "Train the model"
   ]
  },
  {
   "cell_type": "code",
   "execution_count": 65,
   "metadata": {},
   "outputs": [],
   "source": [
    "## train log regression model on counts vectorized dataset\n",
    "model_count = LogisticRegression()\n",
    "model_count.fit(X_train_counts, y_train)\n",
    "\n",
    "y_pred_counts = model_count.predict(X_test_counts)\n"
   ]
  },
  {
   "cell_type": "code",
   "execution_count": 66,
   "metadata": {},
   "outputs": [],
   "source": [
    "# train the log regression model on tfidf vectorized dataset\n",
    "model_tfidf = LogisticRegression()\n",
    "model_tfidf.fit(X_train_tfidf, y_train)\n",
    "\n",
    "y_pred_tfidf = model_tfidf.predict(X_test_tfidf)\n"
   ]
  },
  {
   "cell_type": "markdown",
   "metadata": {},
   "source": [
    "Evaluate the models"
   ]
  },
  {
   "cell_type": "code",
   "execution_count": 67,
   "metadata": {},
   "outputs": [
    {
     "name": "stdout",
     "output_type": "stream",
     "text": [
      "CountVectorizer - Accuracy: 0.7797202797202797\n",
      "CountVectorizer - Precision: 0.7544483985765125\n",
      "CountVectorizer - Recall: 0.7881040892193308\n",
      "CountVectorizer - F1 Score: 0.7709090909090909\n",
      "CountVectorizer - ROC AUC: 0.7801906584710516\n"
     ]
    }
   ],
   "source": [
    "## evaluate model on count vectorizer \n",
    "\n",
    "# Calculate metrics\n",
    "accuracy_counts = accuracy_score(y_test, y_pred_counts)\n",
    "precision_counts = precision_score(y_test, y_pred_counts, average='binary')\n",
    "recall_counts = recall_score(y_test, y_pred_counts, average='binary')\n",
    "f1_counts = f1_score(y_test, y_pred_counts, average='binary')\n",
    "roc_auc_counts = roc_auc_score(y_test, y_pred_counts)\n",
    "\n",
    "# Print metrics\n",
    "print(f'CountVectorizer - Accuracy: {accuracy_counts}')\n",
    "print(f'CountVectorizer - Precision: {precision_counts}')\n",
    "print(f'CountVectorizer - Recall: {recall_counts}')\n",
    "print(f'CountVectorizer - F1 Score: {f1_counts}')\n",
    "print(f'CountVectorizer - ROC AUC: {roc_auc_counts}')\n"
   ]
  },
  {
   "cell_type": "code",
   "execution_count": 68,
   "metadata": {},
   "outputs": [
    {
     "name": "stdout",
     "output_type": "stream",
     "text": [
      "TfidfVectorizer - Accuracy: 0.791958041958042\n",
      "TfidfVectorizer - Precision: 0.7568493150684932\n",
      "TfidfVectorizer - Recall: 0.8215613382899628\n",
      "TfidfVectorizer - F1 Score: 0.7878787878787878\n",
      "TfidfVectorizer - ROC AUC: 0.7936189529733642\n"
     ]
    }
   ],
   "source": [
    "## evaluaate on tfidf vectorizer \n",
    "# Calculate metrics\n",
    "accuracy_tfidf = accuracy_score(y_test, y_pred_tfidf)\n",
    "precision_tfidf = precision_score(y_test, y_pred_tfidf, average='binary')\n",
    "recall_tfidf = recall_score(y_test, y_pred_tfidf, average='binary')\n",
    "f1_tfidf = f1_score(y_test, y_pred_tfidf, average='binary')\n",
    "roc_auc_tfidf = roc_auc_score(y_test, y_pred_tfidf)\n",
    "\n",
    "# Print metrics\n",
    "print(f'TfidfVectorizer - Accuracy: {accuracy_tfidf}')\n",
    "print(f'TfidfVectorizer - Precision: {precision_tfidf}')\n",
    "print(f'TfidfVectorizer - Recall: {recall_tfidf}')\n",
    "print(f'TfidfVectorizer - F1 Score: {f1_tfidf}')\n",
    "print(f'TfidfVectorizer - ROC AUC: {roc_auc_tfidf}')\n"
   ]
  },
  {
   "cell_type": "markdown",
   "metadata": {},
   "source": [
    "#### analysis \n",
    "\n",
    "TfidfVectorizer is the better choice between the two this task. It achieves higher recall, F1 score, and ROC AUC, which are critical for effectively identifying hate speech tweets while minimizing false positives."
   ]
  },
  {
   "cell_type": "markdown",
   "metadata": {},
   "source": []
  }
 ],
 "metadata": {
  "kernelspec": {
   "display_name": "al",
   "language": "python",
   "name": "python3"
  },
  "language_info": {
   "codemirror_mode": {
    "name": "ipython",
    "version": 3
   },
   "file_extension": ".py",
   "mimetype": "text/x-python",
   "name": "python",
   "nbconvert_exporter": "python",
   "pygments_lexer": "ipython3",
   "version": "3.12.3"
  }
 },
 "nbformat": 4,
 "nbformat_minor": 2
}
