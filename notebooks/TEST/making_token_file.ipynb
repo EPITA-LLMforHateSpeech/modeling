{
 "cells": [
  {
   "cell_type": "code",
   "execution_count": 1,
   "metadata": {},
   "outputs": [],
   "source": [
    "import pandas as pd\n",
    "from collections import Counter\n",
    "from tensorflow.keras.preprocessing.text import Tokenizer\n",
    "import pickle\n",
    "\n",
    "# Example dataset (replace with your actual dataset)\n",
    "data  =pd.read_csv('../../data/mendeley_data/HateSpeechDatasetBalanced.csv')\n",
    "\n",
    "df = pd.DataFrame(data)\n",
    "\n"
   ]
  },
  {
   "cell_type": "code",
   "execution_count": 6,
   "metadata": {},
   "outputs": [
    {
     "name": "stdout",
     "output_type": "stream",
     "text": [
      "Tokenizer with hate speech words saved successfully to hate_speech_tokenizer.pkl\n"
     ]
    }
   ],
   "source": [
    "df = pd.DataFrame(data)\n",
    "\n",
    "# Extract texts with label 1 (hate speech)\n",
    "texts_hate_speech = df[df['Label'] == 1]['Content'].tolist()\n",
    "\n",
    "# Tokenize the text associated with label 1\n",
    "tokenizer = Tokenizer()\n",
    "tokenizer.fit_on_texts(texts_hate_speech)\n",
    "\n",
    "# Filter words used more than 10 times\n",
    "min_word_count = 10\n",
    "word_counts = tokenizer.word_counts\n",
    "selected_words = [word for word, count in word_counts.items() if count >= min_word_count]\n",
    "\n",
    "# Create a new tokenizer with selected words\n",
    "selected_tokenizer = Tokenizer()\n",
    "selected_tokenizer.word_index = {word: index + 1 for index, word in enumerate(selected_words)}\n",
    "\n",
    "# Save the tokenizer as a pickle file\n",
    "tokenizer_pkl_path = 'hate_speech_tokenizer.pkl'\n",
    "with open(tokenizer_pkl_path, 'wb') as f:\n",
    "    pickle.dump(selected_tokenizer, f)\n",
    "\n",
    "print(f\"Tokenizer with hate speech words saved successfully to {tokenizer_pkl_path}\")"
   ]
  },
  {
   "cell_type": "code",
   "execution_count": 11,
   "metadata": {},
   "outputs": [
    {
     "name": "stdout",
     "output_type": "stream",
     "text": [
      "Tokenizer with top 20 hate speech words saved successfully to hate_speech_tokenizer.pkl\n"
     ]
    }
   ],
   "source": [
    "# Extract texts with label 1 (hate speech)\n",
    "texts_hate_speech = df[df['Label'] == 1]['Content'].tolist()\n",
    "\n",
    "# Tokenize the text associated with label 1\n",
    "tokenizer = Tokenizer()\n",
    "tokenizer.fit_on_texts(texts_hate_speech)\n",
    "\n",
    "# Get word counts\n",
    "word_counts = tokenizer.word_counts\n",
    "\n",
    "# Use Counter to get the most common words\n",
    "top_n = 20\n",
    "counter = Counter(word_counts)\n",
    "selected_words = [word for word, _ in counter.most_common(top_n)]\n",
    "\n",
    "# Create a new tokenizer with selected words\n",
    "selected_tokenizer = Tokenizer()\n",
    "selected_tokenizer.word_index = {word: index + 1 for index, word in enumerate(selected_words)}\n",
    "\n",
    "# Save the tokenizer as a pickle file\n",
    "tokenizer_pkl_path = 'hate_speech_tokenizer.pkl'\n",
    "with open(tokenizer_pkl_path, 'wb') as f:\n",
    "    pickle.dump(selected_tokenizer, f)\n",
    "\n",
    "print(f\"Tokenizer with top {top_n} hate speech words saved successfully to {tokenizer_pkl_path}\")"
   ]
  },
  {
   "cell_type": "code",
   "execution_count": null,
   "metadata": {},
   "outputs": [],
   "source": []
  }
 ],
 "metadata": {
  "kernelspec": {
   "display_name": "project",
   "language": "python",
   "name": "python3"
  },
  "language_info": {
   "codemirror_mode": {
    "name": "ipython",
    "version": 3
   },
   "file_extension": ".py",
   "mimetype": "text/x-python",
   "name": "python",
   "nbconvert_exporter": "python",
   "pygments_lexer": "ipython3",
   "version": "3.9.19"
  }
 },
 "nbformat": 4,
 "nbformat_minor": 2
}
