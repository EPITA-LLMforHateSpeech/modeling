{
 "cells": [
  {
   "cell_type": "code",
   "execution_count": null,
   "metadata": {},
   "outputs": [],
   "source": []
  },
  {
   "cell_type": "code",
   "execution_count": 1,
   "metadata": {},
   "outputs": [],
   "source": [
    "## Plotting history \n",
    "import matplotlib.pyplot as plt\n",
    "\n",
    "def plot_training_history(history):\n",
    "    plt.figure(figsize=(12, 4))\n",
    "\n",
    "    plt.subplot(1, 2, 1)\n",
    "    plt.plot(history['accuracy'])\n",
    "    plt.plot(history['val_accuracy'])\n",
    "    plt.title('Model Accuracy')\n",
    "    plt.ylabel('Accuracy')\n",
    "    plt.xlabel('Epoch')\n",
    "    plt.legend(['Train', 'Validation'], loc='upper left')\n",
    "\n",
    "    # Plotting training & validation loss values\n",
    "    plt.subplot(1, 2, 2)\n",
    "    plt.plot(history['train_loss'])\n",
    "    plt.plot(history['val_loss'])\n",
    "    plt.title('Model Loss')\n",
    "    plt.ylabel('Loss')\n",
    "    plt.xlabel('Epoch')\n",
    "    plt.legend(['Train', 'Validation'], loc='upper left')\n",
    "\n",
    "    plt.tight_layout()\n",
    "    plt.show()\n"
   ]
  },
  {
   "cell_type": "code",
   "execution_count": 2,
   "metadata": {},
   "outputs": [],
   "source": [
    "## Plotting confusion matrix\n",
    "\n",
    "from sklearn.metrics import confusion_matrix\n",
    "import seaborn as sns\n",
    "import matplotlib.pyplot as plt\n",
    "import numpy as np\n",
    "\n",
    "def plot_confusion_matrix(y_val, y_pred, title):\n",
    "    y_pred_classes = y_pred\n",
    "    y_true_classes = y_val\n",
    "\n",
    "    # Create and plot confusion matrix\n",
    "    cm = confusion_matrix(y_true_classes, y_pred_classes)\n",
    "\n",
    "    plt.figure(figsize=(10,7))\n",
    "    sns.heatmap(cm, annot=True, fmt='d', cmap='Blues')\n",
    "    plt.xlabel('Predicted')\n",
    "    plt.ylabel('True')\n",
    "    plt.title('Confusion Matrix:  ' + title)\n",
    "    plt.show()\n",
    "\n"
   ]
  },
  {
   "cell_type": "code",
   "execution_count": 3,
   "metadata": {},
   "outputs": [],
   "source": [
    "import pandas as pd\n",
    "from datasets import load_dataset\n"
   ]
  },
  {
   "cell_type": "code",
   "execution_count": 4,
   "metadata": {},
   "outputs": [],
   "source": [
    "# df = pd.read_csv(\"../../data/mendeley/HateSpeechDatasetBalanced.csv\")\n",
    "# df.columns = df.columns.str.lower()\n",
    "\n",
    "dataset = load_dataset('csv', data_files='../../data/mendeley/HateSpeechDatasetBalanced.csv')\n"
   ]
  },
  {
   "cell_type": "code",
   "execution_count": 5,
   "metadata": {},
   "outputs": [],
   "source": [
    "dataset = dataset['train'].train_test_split(test_size=0.2)\n"
   ]
  },
  {
   "cell_type": "code",
   "execution_count": 6,
   "metadata": {},
   "outputs": [
    {
     "data": {
      "text/plain": [
       "DatasetDict({\n",
       "    train: Dataset({\n",
       "        features: ['Content', 'Label'],\n",
       "        num_rows: 580895\n",
       "    })\n",
       "    test: Dataset({\n",
       "        features: ['Content', 'Label'],\n",
       "        num_rows: 145224\n",
       "    })\n",
       "})"
      ]
     },
     "execution_count": 6,
     "metadata": {},
     "output_type": "execute_result"
    }
   ],
   "source": [
    "dataset"
   ]
  },
  {
   "cell_type": "code",
   "execution_count": 13,
   "metadata": {},
   "outputs": [
    {
     "data": {
      "application/vnd.jupyter.widget-view+json": {
       "model_id": "97ba2b0886ed46dc89b951bfbcbe6ec2",
       "version_major": 2,
       "version_minor": 0
      },
      "text/plain": [
       "Map:   0%|          | 0/580895 [00:00<?, ? examples/s]"
      ]
     },
     "metadata": {},
     "output_type": "display_data"
    },
    {
     "data": {
      "application/vnd.jupyter.widget-view+json": {
       "model_id": "ef4ca82c27994478a93cffb9052f62d0",
       "version_major": 2,
       "version_minor": 0
      },
      "text/plain": [
       "Map:   0%|          | 0/145224 [00:00<?, ? examples/s]"
      ]
     },
     "metadata": {},
     "output_type": "display_data"
    }
   ],
   "source": [
    "## preprocess data\n",
    "\n",
    "from transformers import  DistilBertForSequenceClassification, DistilBertTokenizerFast\n",
    "\n",
    "tokenizer = DistilBertTokenizerFast.from_pretrained('distilbert-base-uncased')\n",
    "\n",
    "def encode(examples):\n",
    "    # Tokenize the inputs and add the labels\n",
    "    encodings = tokenizer(examples['Content'], truncation=True, padding='max_length', max_length=512)\n",
    "    return {'input_ids': encodings['input_ids'], 'attention_mask': encodings['attention_mask'], 'labels': examples['Label']}\n",
    "\n",
    "train_dataset = dataset['train'].map(encode, batched=True)\n",
    "test_dataset = dataset['test'].map(encode, batched=True)\n",
    "\n",
    "# Format the dataset to output PyTorch tensors\n",
    "train_dataset.set_format(type='torch', columns=['input_ids', 'attention_mask', 'labels'])\n",
    "test_dataset.set_format(type='torch', columns=['input_ids', 'attention_mask', 'labels'])\n"
   ]
  },
  {
   "cell_type": "code",
   "execution_count": 18,
   "metadata": {},
   "outputs": [],
   "source": [
    "train_dataset_reduced = train_dataset.shuffle(seed=42).select(range(10000))"
   ]
  },
  {
   "cell_type": "code",
   "execution_count": 21,
   "metadata": {},
   "outputs": [
    {
     "name": "stderr",
     "output_type": "stream",
     "text": [
      "Some weights of DistilBertForSequenceClassification were not initialized from the model checkpoint at distilbert-base-uncased and are newly initialized: ['classifier.bias', 'classifier.weight', 'pre_classifier.bias', 'pre_classifier.weight']\n",
      "You should probably TRAIN this model on a down-stream task to be able to use it for predictions and inference.\n"
     ]
    }
   ],
   "source": [
    "## finetune with 3 epochs \n",
    "\n",
    "from transformers import Trainer, TrainingArguments\n",
    "\n",
    "model = DistilBertForSequenceClassification.from_pretrained('distilbert-base-uncased')\n",
    "\n",
    "training_args = TrainingArguments(\n",
    "    output_dir='../../models/bert_mendeley_hatespeech_finetuned/results',\n",
    "    num_train_epochs=1,\n",
    "    per_device_train_batch_size=16,\n",
    "    per_device_eval_batch_size=64,\n",
    "    warmup_steps=500,\n",
    "    weight_decay=0.01,\n",
    "    logging_dir='../../models/bert_mendeley_hatespeech_finetuned/logs',\n",
    ")\n",
    "\n",
    "trainer = Trainer(\n",
    "    model=model,\n",
    "    args=training_args,\n",
    "    train_dataset=train_dataset_reduced,\n",
    "    eval_dataset=test_dataset,\n",
    ")\n",
    "\n"
   ]
  },
  {
   "cell_type": "code",
   "execution_count": 22,
   "metadata": {},
   "outputs": [
    {
     "data": {
      "application/vnd.jupyter.widget-view+json": {
       "model_id": "5b44ee6567e2426dafbead79b0825a86",
       "version_major": 2,
       "version_minor": 0
      },
      "text/plain": [
       "  0%|          | 0/625 [00:00<?, ?it/s]"
      ]
     },
     "metadata": {},
     "output_type": "display_data"
    },
    {
     "name": "stdout",
     "output_type": "stream",
     "text": [
      "{'loss': 0.4989, 'grad_norm': 4.607999324798584, 'learning_rate': 5e-05, 'epoch': 0.8}\n",
      "{'train_runtime': 40003.8517, 'train_samples_per_second': 0.25, 'train_steps_per_second': 0.016, 'train_loss': 0.4779757568359375, 'epoch': 1.0}\n"
     ]
    },
    {
     "data": {
      "text/plain": [
       "TrainOutput(global_step=625, training_loss=0.4779757568359375, metrics={'train_runtime': 40003.8517, 'train_samples_per_second': 0.25, 'train_steps_per_second': 0.016, 'total_flos': 1324673986560000.0, 'train_loss': 0.4779757568359375, 'epoch': 1.0})"
      ]
     },
     "execution_count": 22,
     "metadata": {},
     "output_type": "execute_result"
    }
   ],
   "source": [
    "trainer.train()"
   ]
  },
  {
   "cell_type": "code",
   "execution_count": 26,
   "metadata": {},
   "outputs": [],
   "source": [
    "import torch\n",
    "\n",
    "# Save the train and test datasets\n",
    "torch.save(train_dataset, '../../preprocessed/final_bert_train_dataset.pt')\n",
    "torch.save(test_dataset, '../../preprocessed/final_bert_test_dataset.pt')"
   ]
  },
  {
   "cell_type": "code",
   "execution_count": 27,
   "metadata": {},
   "outputs": [
    {
     "data": {
      "text/plain": [
       "('../../models/bert_mendeley_hatespeech_finetuned/tokenizer\\\\tokenizer_config.json',\n",
       " '../../models/bert_mendeley_hatespeech_finetuned/tokenizer\\\\special_tokens_map.json',\n",
       " '../../models/bert_mendeley_hatespeech_finetuned/tokenizer\\\\vocab.txt',\n",
       " '../../models/bert_mendeley_hatespeech_finetuned/tokenizer\\\\added_tokens.json',\n",
       " '../../models/bert_mendeley_hatespeech_finetuned/tokenizer\\\\tokenizer.json')"
      ]
     },
     "execution_count": 27,
     "metadata": {},
     "output_type": "execute_result"
    }
   ],
   "source": [
    "trainer.save_model(\"../../models/bert_mendeley_hatespeech_finetuned/trainer\")\n",
    "tokenizer.save_pretrained(\"../../models/bert_mendeley_hatespeech_finetuned/tokenizer\")"
   ]
  },
  {
   "cell_type": "code",
   "execution_count": 28,
   "metadata": {},
   "outputs": [],
   "source": [
    "from transformers import DistilBertTokenizerFast, DistilBertForSequenceClassification\n",
    "\n",
    "model = DistilBertForSequenceClassification.from_pretrained(\"../../models/bert_mendeley_hatespeech_finetuned/trainer\")\n",
    "tokenizer = DistilBertTokenizerFast.from_pretrained(\"../../models/bert_mendeley_hatespeech_finetuned/tokenizer\")\n"
   ]
  },
  {
   "cell_type": "code",
   "execution_count": 32,
   "metadata": {},
   "outputs": [
    {
     "name": "stderr",
     "output_type": "stream",
     "text": [
      "Predicting on 1% of test data: 100%|██████████| 1452/1452 [41:37<00:00,  1.72s/it]"
     ]
    },
    {
     "name": "stdout",
     "output_type": "stream",
     "text": [
      "Confusion Matrix:\n",
      "[[579 141]\n",
      " [106 626]]\n",
      "\n",
      "Classification Report:\n",
      "              precision    recall  f1-score   support\n",
      "\n",
      "           0       0.85      0.80      0.82       720\n",
      "           1       0.82      0.86      0.84       732\n",
      "\n",
      "    accuracy                           0.83      1452\n",
      "   macro avg       0.83      0.83      0.83      1452\n",
      "weighted avg       0.83      0.83      0.83      1452\n",
      "\n"
     ]
    },
    {
     "name": "stderr",
     "output_type": "stream",
     "text": [
      "\n"
     ]
    }
   ],
   "source": [
    "from sklearn.metrics import confusion_matrix, classification_report\n",
    "import numpy as np\n",
    "import torch\n",
    "import random\n",
    "from tqdm import tqdm\n",
    "\n",
    "# Load saved test dataset\n",
    "loaded_test_dataset = torch.load('../../preprocessed/final_bert_test_dataset.pt')\n",
    "\n",
    "num_samples = int(len(loaded_test_dataset) * 0.01)\n",
    "\n",
    "# Randomly select 1% of the data\n",
    "random_indices = random.sample(range(len(loaded_test_dataset)), num_samples)\n",
    "reduced_test_dataset = [loaded_test_dataset[i] for i in random_indices]\n",
    "\n",
    "# Predict the classes for all the texts in the test dataset\n",
    "test_preds = []\n",
    "test_labels = []\n",
    "\n",
    "for item in tqdm(reduced_test_dataset, desc='Predicting on 1% of test data'):\n",
    "    inputs = {key: item[key].unsqueeze(dim=0) for key in ['input_ids', 'attention_mask']}\n",
    "    with torch.no_grad():\n",
    "        outputs = model(**inputs)\n",
    "    probs = torch.nn.functional.softmax(outputs.logits, dim=-1)\n",
    "    predicted_class = torch.argmax(probs).item()\n",
    "    test_preds.append(predicted_class)\n",
    "    test_labels.append(item['labels'].item())\n",
    "\n",
    "# Compute the confusion matrix\n",
    "cm = confusion_matrix(test_labels, test_preds)\n",
    "\n",
    "# Generate a classification report\n",
    "report = classification_report(test_labels, test_preds)\n",
    "\n",
    "print(\"Confusion Matrix:\")\n",
    "print(cm)\n",
    "print(\"\\nClassification Report:\")\n",
    "print(report)"
   ]
  },
  {
   "cell_type": "code",
   "execution_count": 37,
   "metadata": {},
   "outputs": [
    {
     "data": {
      "image/png": "[encoded data removed]",
      "text/plain": [
       "<Figure size 1000x700 with 2 Axes>"
      ]
     },
     "metadata": {},
     "output_type": "display_data"
    }
   ],
   "source": [
    "percent_used = 10000/580895\n",
    "plot_confusion_matrix(test_labels, test_preds, f\"DistilBert trained on {percent_used*100:.2f}% of training data, predicted on 1% of test data\")"
   ]
  },
  {
   "cell_type": "code",
   "execution_count": null,
   "metadata": {},
   "outputs": [],
   "source": []
  }
 ],
 "metadata": {
  "kernelspec": {
   "display_name": "al",
   "language": "python",
   "name": "python3"
  },
  "language_info": {
   "codemirror_mode": {
    "name": "ipython",
    "version": 3
   },
   "file_extension": ".py",
   "mimetype": "text/x-python",
   "name": "python",
   "nbconvert_exporter": "python",
   "pygments_lexer": "ipython3",
   "version": "3.12.3"
  }
 },
 "nbformat": 4,
 "nbformat_minor": 2
}
